{
  "nbformat": 4,
  "nbformat_minor": 0,
  "metadata": {
    "colab": {
      "provenance": [],
      "collapsed_sections": [
        "aPBLfwhnhbai",
        "89Xxf9bX_87r",
        "kjb0hpLTAFi8",
        "ROzffsSSdoaT",
        "OKBtHJf0hyMi",
        "hhRDiwffokRs",
        "rdXvUzWsoqUR",
        "k8YOC5Vyz7p9",
        "TuKy8t5KbKaE"
      ]
    },
    "kernelspec": {
      "name": "python3",
      "display_name": "Python 3"
    },
    "language_info": {
      "name": "python"
    }
  },
  "cells": [
    {
      "cell_type": "markdown",
      "source": [
        "About:\n",
        "\n",
        "Assignment 1: Distributional Word Representations\n",
        "\n",
        "Class: CS221.N11.KHTN\n",
        "\n",
        "Group 6\n",
        "\n",
        "Members:\n",
        "- Nguyễn Duy Đạt (20520435)\n",
        "- Trần Hữu Khoa (20520222)\n",
        "- Huỳnh Hoàng Vũ (20520864)\n",
        "- Lê Thế Việt (20520093)\n",
        "\n",
        "Date: 19/10/2022"
      ],
      "metadata": {
        "id": "CWyQYY9lhmTv"
      }
    },
    {
      "cell_type": "markdown",
      "source": [
        "# Import libaries and download datasets"
      ],
      "metadata": {
        "id": "aPBLfwhnhbai"
      }
    },
    {
      "cell_type": "code",
      "execution_count": null,
      "metadata": {
        "id": "Ti0fKoTrrxvQ"
      },
      "outputs": [],
      "source": [
        "import numpy as np\n",
        "import pandas as pd\n",
        "import copy\n",
        "import heapq\n",
        "import matplotlib.pyplot as plt\n",
        "\n",
        "from sklearn.metrics.pairwise import cosine_similarity\n",
        "from sklearn.decomposition import TruncatedSVD\n",
        "from tqdm import tqdm\n",
        "from io import open\n",
        "from collections import Counter, defaultdict\n",
        "from math import sqrt\n",
        "\n",
        "from scipy.sparse import lil_matrix, coo_matrix\n",
        "from scipy.sparse import csr_matrix\n",
        "from scipy import stats\n",
        "from scipy.spatial.distance import cosine\n",
        "from scipy.stats import spearmanr\n",
        "from scipy import spatial\n",
        "\n",
        "\n",
        "%matplotlib inline"
      ]
    },
    {
      "cell_type": "code",
      "source": [
        "!gdown --id 1trtwTtde-YUVsMOOgrw_jDAlrkL1FyzR\n",
        "!gdown --id 1HGWXH9pg_BV-EIOXNWx2sL9AqvvanTHa\n",
        "!gdown --id 13qxlHq7A3UBIwq6Odkbj3yOGasxcCf8w"
      ],
      "metadata": {
        "colab": {
          "base_uri": "https://localhost:8080/"
        },
        "id": "FpOc7rrW-5B1",
        "outputId": "dcafff1d-8135-4d19-f6ef-35f4f6f96f48"
      },
      "execution_count": null,
      "outputs": [
        {
          "output_type": "stream",
          "name": "stdout",
          "text": [
            "/usr/local/lib/python3.7/dist-packages/gdown/cli.py:131: FutureWarning: Option `--id` was deprecated in version 4.3.1 and will be removed in 5.0. You don't need to pass it anymore to use a file ID.\n",
            "  category=FutureWarning,\n",
            "Downloading...\n",
            "From: https://drive.google.com/uc?id=1trtwTtde-YUVsMOOgrw_jDAlrkL1FyzR\n",
            "To: /content/31190-a1-files.zip\n",
            "100% 242k/242k [00:00<00:00, 71.1MB/s]\n",
            "/usr/local/lib/python3.7/dist-packages/gdown/cli.py:131: FutureWarning: Option `--id` was deprecated in version 4.3.1 and will be removed in 5.0. You don't need to pass it anymore to use a file ID.\n",
            "  category=FutureWarning,\n",
            "Downloading...\n",
            "From: https://drive.google.com/uc?id=1HGWXH9pg_BV-EIOXNWx2sL9AqvvanTHa\n",
            "To: /content/wiki-0.1percent.txt.zip\n",
            "100% 4.45M/4.45M [00:00<00:00, 28.9MB/s]\n",
            "/usr/local/lib/python3.7/dist-packages/gdown/cli.py:131: FutureWarning: Option `--id` was deprecated in version 4.3.1 and will be removed in 5.0. You don't need to pass it anymore to use a file ID.\n",
            "  category=FutureWarning,\n",
            "Downloading...\n",
            "From: https://drive.google.com/uc?id=13qxlHq7A3UBIwq6Odkbj3yOGasxcCf8w\n",
            "To: /content/wiki-1percent.txt.zip\n",
            "100% 43.8M/43.8M [00:01<00:00, 36.2MB/s]\n"
          ]
        }
      ]
    },
    {
      "cell_type": "code",
      "source": [
        "!unzip -q /content/31190-a1-files.zip\n",
        "!unzip -q /content/wiki-0.1percent.txt.zip\n",
        "!unzip -q /content/wiki-1percent.txt.zip"
      ],
      "metadata": {
        "id": "pgJKQYvB_47E"
      },
      "execution_count": null,
      "outputs": []
    },
    {
      "cell_type": "markdown",
      "source": [
        "# 1. Required Tasks (50 points total)\n"
      ],
      "metadata": {
        "id": "89Xxf9bX_87r"
      }
    },
    {
      "cell_type": "markdown",
      "source": [
        "## 1.1 Distributional Counting (20 points)\n"
      ],
      "metadata": {
        "id": "kjb0hpLTAFi8"
      }
    },
    {
      "cell_type": "code",
      "source": [
        "V = open('31190-a1-files/vocab-wordsim.txt').read().split('\\n')[:-1] \n",
        "V_C = open('31190-a1-files/vocab-25k.txt').read().split('\\n')[:-1] \n",
        "\n",
        "V_dict = {word.strip(): idx for idx, word in enumerate(V)}   \n",
        "V_C_dict = {word.strip(): idx for idx, word in enumerate(V_C)}\n",
        "\n",
        "corpus = open('/content/wiki-1percent.txt').read().split('\\n')[:-1] "
      ],
      "metadata": {
        "id": "3nnJ7i3hIdpb"
      },
      "execution_count": null,
      "outputs": []
    },
    {
      "cell_type": "code",
      "source": [
        "def gen_words_context (corpus, V_dict, V_C_dict, V, V_C, window_value):\n",
        "  # print(len(V_dict))\n",
        "  count = np.zeros((len(V), len(V_C)), dtype=float)\n",
        "  V_dim_words = V_dict.keys()\n",
        "  V_C_dim_words = V_C_dict.keys()\n",
        "  for line in tqdm(corpus):\n",
        "    cleaned = line.strip()\n",
        "    line = \"<s> \" + cleaned + \" </s>\"\n",
        "    sentence_list = line.split()\n",
        "    for idx, word in enumerate(sentence_list):\n",
        "      if idx > 0 and idx < len(sentence_list) - 1:\n",
        "        if word in V_dim_words: \n",
        "          for context_word in sentence_list[max(idx-window_value,0):idx] + sentence_list[idx+1:min(idx+window_value+1,len(sentence_list))]:\n",
        "            if context_word in V_C_dim_words:\n",
        "              count[V_dict[word]][V_C_dict[context_word]] += 1\n",
        "\n",
        "  return count"
      ],
      "metadata": {
        "id": "hDr-Y95NHHsV"
      },
      "execution_count": null,
      "outputs": []
    },
    {
      "cell_type": "code",
      "source": [
        "def calculate_spearmen(wc_mtx, V_dict, human_dict):\n",
        "  wc_sim_list, human_sim_list = [], []\n",
        "  for key, value in human_dict.items():\n",
        "    human_sim_list.append(value)\n",
        "    if key[0] not in V_dict or key[1] not in V_dict:\n",
        "      wc_sim_list.append(0)\n",
        "    else:\n",
        "      word_1_vec = wc_mtx[V_dict[key[0]], :]\n",
        "      word_2_vec = wc_mtx[V_dict[key[1]], :]\n",
        "      wc_sim_list.append(1 - cosine(word_1_vec, word_2_vec))\n",
        "\n",
        "  return spearmanr(wc_sim_list, human_sim_list, axis=None).correlation\n",
        "\n",
        "def read_annotation(path):\n",
        "  d = {}\n",
        "  with open(path) as document:\n",
        "      lst = list(document)\n",
        "      for i in lst[1:]:\n",
        "          clean_lst =i.strip().split(\"\\t\")\n",
        "          key=tuple(clean_lst[:2])\n",
        "          value = float(clean_lst[-1])\n",
        "          d[key] = value\n",
        "  return d"
      ],
      "metadata": {
        "id": "4afyyIp5QZH7"
      },
      "execution_count": null,
      "outputs": []
    },
    {
      "cell_type": "code",
      "source": [
        "C_window_3 = gen_words_context(corpus, V_dict, V_C_dict, V, V_C, 3)"
      ],
      "metadata": {
        "colab": {
          "base_uri": "https://localhost:8080/"
        },
        "id": "ar1fsPm7Luxi",
        "outputId": "8288a9b1-2b5b-4087-c5ef-712b4ba28c18"
      },
      "execution_count": null,
      "outputs": [
        {
          "output_type": "stream",
          "name": "stderr",
          "text": [
            "100%|██████████| 997898/997898 [00:24<00:00, 40394.45it/s]\n"
          ]
        }
      ]
    },
    {
      "cell_type": "code",
      "source": [
        "men_window_3 = calculate_spearmen(C_window_3, V_dict, read_annotation('/content/31190-a1-files/men.txt'))\n",
        "simlex_window_3 = calculate_spearmen(C_window_3, V_dict, read_annotation('/content/31190-a1-files/simlex-999.txt'))\n",
        "print(men_window_3)\n",
        "print(simlex_window_3)"
      ],
      "metadata": {
        "colab": {
          "base_uri": "https://localhost:8080/"
        },
        "id": "40rcmwh2SZeD",
        "outputId": "1e8f8690-47db-49cd-9660-1bcbbb6a1f29"
      },
      "execution_count": null,
      "outputs": [
        {
          "output_type": "stream",
          "name": "stdout",
          "text": [
            "0.22433852567075044\n",
            "0.06134632093956428\n"
          ]
        },
        {
          "output_type": "stream",
          "name": "stderr",
          "text": [
            "/usr/local/lib/python3.7/dist-packages/scipy/spatial/distance.py:699: RuntimeWarning: invalid value encountered in double_scalars\n",
            "  dist = 1.0 - uv / np.sqrt(uu * vv)\n"
          ]
        }
      ]
    },
    {
      "cell_type": "markdown",
      "source": [
        "## 1.2 Computing PMIs (10 points)"
      ],
      "metadata": {
        "id": "ROzffsSSdoaT"
      }
    },
    {
      "cell_type": "markdown",
      "source": [
        "$O(n^2) solution$"
      ],
      "metadata": {
        "id": "R8yKGH3weybc"
      }
    },
    {
      "cell_type": "code",
      "source": [
        "def get_C_pmi(C, V, V_C):\n",
        "  C_pmi = np.zeros((C.shape[0], C.shape[1]), dtype=float)\n",
        "  p_ij, p_i, p_j = C / C.sum(), C.sum(axis=1) / C.sum(), C.sum(axis=0) / C.sum()\n",
        "\n",
        "  for i in tqdm(range(len(V))):\n",
        "    for j in range(len(V_C)):\n",
        "      C_pmi[i, j] = np.log2(p_ij[i, j] / (p_i[i] * p_j[j]))\n",
        "  \n",
        "  C_pmi = np.where(C_pmi > 0, C_pmi, 0)\n",
        "  \n",
        "  return C_pmi"
      ],
      "metadata": {
        "id": "LkVOxcnzdu5z"
      },
      "execution_count": null,
      "outputs": []
    },
    {
      "cell_type": "code",
      "source": [
        "C_pmi = get_C_pmi(C_window_3, V, V_C)"
      ],
      "metadata": {
        "colab": {
          "base_uri": "https://localhost:8080/"
        },
        "id": "lxsB3QkCfdcA",
        "outputId": "8cbc7db4-8072-4667-fff5-07899c88fb84"
      },
      "execution_count": null,
      "outputs": [
        {
          "output_type": "stream",
          "name": "stderr",
          "text": [
            "  0%|          | 0/1577 [00:00<?, ?it/s]/usr/local/lib/python3.7/dist-packages/ipykernel_launcher.py:7: RuntimeWarning: divide by zero encountered in log2\n",
            "  import sys\n",
            "/usr/local/lib/python3.7/dist-packages/ipykernel_launcher.py:7: RuntimeWarning: invalid value encountered in double_scalars\n",
            "  import sys\n",
            "100%|██████████| 1577/1577 [02:33<00:00, 10.30it/s]\n"
          ]
        }
      ]
    },
    {
      "cell_type": "code",
      "source": [
        "men_pmi_3 = calculate_spearmen(C_pmi, V_dict, read_annotation('/content/31190-a1-files/men.txt'))\n",
        "simlex_pmi_3 = calculate_spearmen(C_pmi, V_dict, read_annotation('/content/31190-a1-files/simlex-999.txt'))\n",
        "print(men_pmi_3)\n",
        "print(simlex_pmi_3)"
      ],
      "metadata": {
        "colab": {
          "base_uri": "https://localhost:8080/"
        },
        "id": "E1n6TnyGg9mT",
        "outputId": "7e8de616-9780-4b57-9176-ebcf244a62d2"
      },
      "execution_count": null,
      "outputs": [
        {
          "output_type": "stream",
          "name": "stdout",
          "text": [
            "0.5300999199603679\n",
            "0.21272884825362404\n"
          ]
        }
      ]
    },
    {
      "cell_type": "markdown",
      "source": [
        "Faster solution"
      ],
      "metadata": {
        "id": "vPDcBUt-hESS"
      }
    },
    {
      "cell_type": "code",
      "source": [
        "def double_sum(array):\n",
        "    \"\"\"\n",
        "    sum over all rows first and then sum those sums\n",
        "    \"\"\"\n",
        "    return np.sum(np.einsum(\"ij->i\", array))\n",
        "\n",
        "def gen_joint_probs(array):\n",
        "    \"\"\"\n",
        "    For a given array, generate the joint distribution array\n",
        "    \"\"\"\n",
        "    return array/double_sum(array)\n",
        "\n",
        "def row_probs(array):\n",
        "    \"\"\"\n",
        "    This function represents p(w) for each row.\n",
        "    \"\"\"\n",
        "    return np.einsum(\"ij-> i\", array)\n",
        "\n",
        "def col_probs(array):\n",
        "    \"\"\"\n",
        "    This function represents p(context) for each column.\n",
        "    \"\"\"\n",
        "    return np.einsum(\"ij->j\", array)\n",
        "\n",
        "def gen_PMI(array, smoothing=False, smooth_const=2):\n",
        "    \"\"\"\n",
        "    For a given input array, generate the PMI matrix.\n",
        "    \n",
        "    To activate laplace smoothing, set smoothing to True.\n",
        "    \n",
        "    Default smoothing set to False. If True, smoothing factor=2\n",
        "    \"\"\"\n",
        "    if smoothing:\n",
        "        array = array + smooth_const\n",
        "\n",
        "    context_matrix = gen_joint_probs(array)\n",
        "    p_w = row_probs(context_matrix)\n",
        "    p_c = col_probs(context_matrix)\n",
        "    \n",
        "    PMI_mtx = context_matrix/p_w[:, np.newaxis]\n",
        "    PMI_mtx = np.divide(PMI_mtx, p_c)\n",
        "    PMI_mtx[np.isnan(PMI_mtx)] = 0 \n",
        "    PMI_mtx[PMI_mtx != 0] = np.log2(PMI_mtx[PMI_mtx!=0])\n",
        "    PMI_mtx[PMI_mtx < 0] = 0 # remove negative values - PPMI\n",
        "    \n",
        "    return PMI_mtx"
      ],
      "metadata": {
        "id": "R59EGOUBhNcR"
      },
      "execution_count": null,
      "outputs": []
    },
    {
      "cell_type": "code",
      "source": [
        "C_PMI_3 = gen_PMI(C_window_3)"
      ],
      "metadata": {
        "colab": {
          "base_uri": "https://localhost:8080/"
        },
        "id": "VWZDZTLuhTGj",
        "outputId": "4daeb463-5db5-4e7d-9cd7-0ef36c83b9bc"
      },
      "execution_count": null,
      "outputs": [
        {
          "output_type": "stream",
          "name": "stderr",
          "text": [
            "/usr/local/lib/python3.7/dist-packages/ipykernel_launcher.py:40: RuntimeWarning: invalid value encountered in true_divide\n",
            "/usr/local/lib/python3.7/dist-packages/ipykernel_launcher.py:41: RuntimeWarning: invalid value encountered in true_divide\n"
          ]
        }
      ]
    },
    {
      "cell_type": "code",
      "source": [
        "men_pmi_3 = calculate_spearmen(C_PMI_3, V_dict, read_annotation('/content/31190-a1-files/men.txt'))\n",
        "simlex_pmi_3 = calculate_spearmen(C_PMI_3, V_dict, read_annotation('/content/31190-a1-files/simlex-999.txt'))\n",
        "print(men_pmi_3)\n",
        "print(simlex_pmi_3)"
      ],
      "metadata": {
        "colab": {
          "base_uri": "https://localhost:8080/"
        },
        "id": "MTBJbuNohf2P",
        "outputId": "69119210-cc86-40bd-c4d8-c40d868f66dc"
      },
      "execution_count": null,
      "outputs": [
        {
          "output_type": "stream",
          "name": "stdout",
          "text": [
            "0.5300999199603679\n",
            "0.21272884825362404\n"
          ]
        }
      ]
    },
    {
      "cell_type": "markdown",
      "source": [
        "## 1.3 Experimentation (5 points)"
      ],
      "metadata": {
        "id": "OKBtHJf0hyMi"
      }
    },
    {
      "cell_type": "markdown",
      "source": [
        "### Window size = 1"
      ],
      "metadata": {
        "id": "JvhuaZNOjFyl"
      }
    },
    {
      "cell_type": "code",
      "source": [
        "C_window_1 = gen_words_context(corpus, V_dict, V_C_dict, V, V_C, 1)\n",
        "men_window_1 = calculate_spearmen(C_window_1, V_dict, read_annotation('/content/31190-a1-files/men.txt'))\n",
        "simlex_window_1 = calculate_spearmen(C_window_1, V_dict, read_annotation('/content/31190-a1-files/simlex-999.txt'))\n",
        "\n",
        "C_PMI_1 = gen_PMI(C_window_1)\n",
        "men_pmi_1 = calculate_spearmen(C_PMI_1, V_dict, read_annotation('/content/31190-a1-files/men.txt'))\n",
        "simlex_pmi_1 = calculate_spearmen(C_PMI_1, V_dict, read_annotation('/content/31190-a1-files/simlex-999.txt'))"
      ],
      "metadata": {
        "colab": {
          "base_uri": "https://localhost:8080/"
        },
        "id": "mxar1RIlh3MS",
        "outputId": "e4fb3850-05cb-4da2-a639-8d13f2aaf179"
      },
      "execution_count": null,
      "outputs": [
        {
          "output_type": "stream",
          "name": "stderr",
          "text": [
            "100%|██████████| 997898/997898 [00:13<00:00, 76469.09it/s]\n",
            "/usr/local/lib/python3.7/dist-packages/ipykernel_launcher.py:40: RuntimeWarning: invalid value encountered in true_divide\n",
            "/usr/local/lib/python3.7/dist-packages/ipykernel_launcher.py:41: RuntimeWarning: invalid value encountered in true_divide\n"
          ]
        }
      ]
    },
    {
      "cell_type": "code",
      "source": [
        "print('Word-Context Matrix Spearmen Correlation with MEN:', men_window_1)\n",
        "print('Word-Context Spearmen Correlation with SimLex-999', simlex_window_1)\n",
        "\n",
        "print('PMI Matrix Spearmen Correlation with MEN:', men_pmi_1)\n",
        "print('PMI Matrix Spearmen Correlation with SimLex-999:', simlex_pmi_1)"
      ],
      "metadata": {
        "colab": {
          "base_uri": "https://localhost:8080/"
        },
        "id": "Ld4kr-dgkYWQ",
        "outputId": "905b288e-1888-4e9a-9dec-8d08a7717bc8"
      },
      "execution_count": null,
      "outputs": [
        {
          "output_type": "stream",
          "name": "stdout",
          "text": [
            "Word-Context Matrix Spearmen Correlation with MEN: 0.20992265447069547\n",
            "Word-Context Spearmen Correlation with SimLex-999 0.07753059821419862\n",
            "PMI Matrix Spearmen Correlation with MEN: 0.46582757219242\n",
            "PMI Matrix Spearmen Correlation with SimLex-999: 0.2729154998130331\n"
          ]
        }
      ]
    },
    {
      "cell_type": "markdown",
      "source": [
        "### Window size = 3"
      ],
      "metadata": {
        "id": "qgeiYF1RkwEJ"
      }
    },
    {
      "cell_type": "code",
      "source": [
        "print('Word-Context Matrix Spearmen Correlation with MEN:', men_window_3)\n",
        "print('Word-Context Spearmen Correlation with SimLex-999', simlex_window_3)\n",
        "\n",
        "print('PMI Matrix Spearmen Correlation with MEN:', men_pmi_3)\n",
        "print('PMI Matrix Spearmen Correlation with SimLex-999:', simlex_pmi_3)"
      ],
      "metadata": {
        "colab": {
          "base_uri": "https://localhost:8080/"
        },
        "id": "eA--SFwmkzQV",
        "outputId": "48c96680-2957-436e-f84f-40d85aa7f16b"
      },
      "execution_count": null,
      "outputs": [
        {
          "output_type": "stream",
          "name": "stdout",
          "text": [
            "Word-Context Matrix Spearmen Correlation with MEN: 0.22433852567075044\n",
            "Word-Context Spearmen Correlation with SimLex-999 0.06134632093956428\n",
            "PMI Matrix Spearmen Correlation with MEN: 0.5300999199603679\n",
            "PMI Matrix Spearmen Correlation with SimLex-999: 0.21272884825362404\n"
          ]
        }
      ]
    },
    {
      "cell_type": "markdown",
      "source": [
        "### Window size = 6"
      ],
      "metadata": {
        "id": "0EiyhibJkitC"
      }
    },
    {
      "cell_type": "code",
      "source": [
        "C_window_6 = gen_words_context(corpus, V_dict, V_C_dict, V, V_C, 6)\n",
        "men_window_6 = calculate_spearmen(C_window_6, V_dict, read_annotation('/content/31190-a1-files/men.txt'))\n",
        "simlex_window_6 = calculate_spearmen(C_window_6, V_dict, read_annotation('/content/31190-a1-files/simlex-999.txt'))\n",
        "\n",
        "C_PMI_6 = gen_PMI(C_window_6)\n",
        "men_pmi_6 = calculate_spearmen(C_PMI_6, V_dict, read_annotation('/content/31190-a1-files/men.txt'))\n",
        "simlex_pmi_6 = calculate_spearmen(C_PMI_6, V_dict, read_annotation('/content/31190-a1-files/simlex-999.txt'))"
      ],
      "metadata": {
        "colab": {
          "base_uri": "https://localhost:8080/"
        },
        "id": "qT21k5G7km-q",
        "outputId": "58f1b390-a267-4ba8-9433-02813b2b6f2f"
      },
      "execution_count": null,
      "outputs": [
        {
          "output_type": "stream",
          "name": "stderr",
          "text": [
            "100%|██████████| 997898/997898 [00:25<00:00, 38772.86it/s]\n",
            "/usr/local/lib/python3.7/dist-packages/ipykernel_launcher.py:40: RuntimeWarning: invalid value encountered in true_divide\n",
            "/usr/local/lib/python3.7/dist-packages/ipykernel_launcher.py:41: RuntimeWarning: invalid value encountered in true_divide\n"
          ]
        }
      ]
    },
    {
      "cell_type": "code",
      "source": [
        "print('Word-Context Matrix Spearmen Correlation with MEN:', men_window_6)\n",
        "print('Word-Context Spearmen Correlation with SimLex-999', simlex_window_6)\n",
        "\n",
        "print('PMI Matrix Spearmen Correlation with MEN:', men_pmi_6)\n",
        "print('PMI Matrix Spearmen Correlation with SimLex-999:', simlex_pmi_6)"
      ],
      "metadata": {
        "colab": {
          "base_uri": "https://localhost:8080/"
        },
        "id": "AyohgenLkt4X",
        "outputId": "83e21d44-2cfd-4013-ef9e-109f2ee5c298"
      },
      "execution_count": null,
      "outputs": [
        {
          "output_type": "stream",
          "name": "stdout",
          "text": [
            "Word-Context Matrix Spearmen Correlation with MEN: 0.23790636810978752\n",
            "Word-Context Spearmen Correlation with SimLex-999 0.040553547139409986\n",
            "PMI Matrix Spearmen Correlation with MEN: 0.5298494458448623\n",
            "PMI Matrix Spearmen Correlation with SimLex-999: 0.16106567681754796\n"
          ]
        }
      ]
    },
    {
      "cell_type": "markdown",
      "source": [
        "### Visualize"
      ],
      "metadata": {
        "id": "TUJ9xV4bmDUC"
      }
    },
    {
      "cell_type": "code",
      "source": [
        "# create data\n",
        "men_window = [men_window_1, men_window_3, men_window_6]\n",
        "simlex_window = [simlex_window_1, simlex_window_3, simlex_window_6]\n",
        "men_pmi = [men_pmi_1, men_pmi_3, men_pmi_6]\n",
        "simlex_pmi = [simlex_pmi_1, simlex_pmi_3, simlex_pmi_6]\n",
        "\n",
        "window_size = [1,3,6]\n",
        "# plot lines\n",
        "plt.plot(window_size, men_window, linestyle='-', marker='o', label = \"men window\")\n",
        "plt.plot(window_size, simlex_window, linestyle='-', marker='o', label = \"simlex window\")\n",
        "plt.plot(window_size, men_pmi, linestyle='-', marker='o', label = \"men pmi\")\n",
        "plt.plot(window_size, simlex_pmi, linestyle='-', marker='o', label = \"simlex pmi\")\n",
        "plt.legend()\n",
        "plt.show()"
      ],
      "metadata": {
        "colab": {
          "base_uri": "https://localhost:8080/"
        },
        "id": "5htXt9nImCPd",
        "outputId": "4df8fc72-069c-44a7-f700-47abffefaf5f"
      },
      "execution_count": null,
      "outputs": [
        {
          "output_type": "display_data",
          "data": {
            "text/plain": [
              "<Figure size 432x288 with 1 Axes>"
            ],
            "image/png": "[encoded data removed]"
          },
          "metadata": {
            "needs_background": "light"
          }
        }
      ]
    },
    {
      "cell_type": "markdown",
      "source": [
        "Discussion:\n",
        "\n",
        "- Độ tương quan của spearmen cao hơn khi sử dụng PMI so với sử dụng word-context. Điều này có thể giải thích là PMI thể hiện sự liên quan các từ riêng biệt trong khi đó word-count chỉ đơn giản là đếm các từ.\n",
        "\n",
        "- Tập dataset MEN luôn có độ tương quan spearmen cao hơn hẳn so với dataset ở mọi model bởi vì tập MEN dựa trên sự liên quan của các từ trong khi đó SimLex-999 dựa trên nghĩa của các từ "
      ],
      "metadata": {
        "id": "MgyvAlVDoTHG"
      }
    },
    {
      "cell_type": "markdown",
      "source": [
        "## 1.4  Analysis (15 points)"
      ],
      "metadata": {
        "id": "hhRDiwffokRs"
      }
    },
    {
      "cell_type": "markdown",
      "source": [
        "### 1.4.1  Warm-up: Printing nearest neighbors (3 points)"
      ],
      "metadata": {
        "id": "rdXvUzWsoqUR"
      }
    },
    {
      "cell_type": "code",
      "source": [
        "def nearest_neighbors(C, V_set, query_word, k=10):\n",
        "\n",
        "    lst = []\n",
        "    V = V_set.keys()\n",
        "    \n",
        "    if query_word not in V:\n",
        "        return \"This query does not exist in the vocabulary\"\n",
        "    \n",
        "    query_vector = C[V_set[query_word], :].reshape(1,-1)\n",
        "    \n",
        "    for word in V:\n",
        "        if word == query_word: #avoid having a cosine similarity of 1 with itself\n",
        "            continue\n",
        "        else:\n",
        "            word_vector =  C[V_set[word], :].reshape(1,-1)\n",
        "            sim_score = cosine_similarity(query_vector, word_vector)[0][0]\n",
        "            lst.append(((query_word,word),sim_score))\n",
        "    \n",
        "    sorted_lst = sorted(lst, key=lambda x: x[1], reverse=True)\n",
        "    \n",
        "    return sorted_lst[:k]"
      ],
      "metadata": {
        "id": "4lWOJ42MosAk"
      },
      "execution_count": null,
      "outputs": []
    },
    {
      "cell_type": "code",
      "source": [
        "nearest_neighbors(C_PMI_1, V_dict, \"monster\")"
      ],
      "metadata": {
        "colab": {
          "base_uri": "https://localhost:8080/"
        },
        "id": "XaAUkKwMWZD5",
        "outputId": "593c4aab-3430-4d22-ca2c-91207d323371"
      },
      "execution_count": null,
      "outputs": [
        {
          "output_type": "execute_result",
          "data": {
            "text/plain": [
              "[(('monster', 'dragon'), 0.08406638954612768),\n",
              " (('monster', 'snowman'), 0.06948443441741135),\n",
              " (('monster', 'creatures'), 0.06878143841529642),\n",
              " (('monster', 'zombie'), 0.06577166119330759),\n",
              " (('monster', 'moon'), 0.0644076677553301),\n",
              " (('monster', 'jar'), 0.06213759715282472),\n",
              " (('monster', 'scooter'), 0.06087203261016741),\n",
              " (('monster', 'clown'), 0.060583321914232616),\n",
              " (('monster', 'destruction'), 0.06055778151097803),\n",
              " (('monster', 'dirty'), 0.05833143422577799)]"
            ]
          },
          "metadata": {},
          "execution_count": 22
        }
      ]
    },
    {
      "cell_type": "code",
      "source": [
        "nearest_neighbors(C_PMI_6, V_dict, \"monster\")"
      ],
      "metadata": {
        "colab": {
          "base_uri": "https://localhost:8080/"
        },
        "id": "9XCHy5G0Y4Su",
        "outputId": "b9d213ee-09f6-4146-9394-8fe113c234f8"
      },
      "execution_count": null,
      "outputs": [
        {
          "output_type": "execute_result",
          "data": {
            "text/plain": [
              "[(('monster', 'man'), 0.11239489795010818),\n",
              " (('monster', 'dragon'), 0.1106493837355547),\n",
              " (('monster', 'dog'), 0.11035611136388004),\n",
              " (('monster', 'girl'), 0.10932083951920943),\n",
              " (('monster', 'night'), 0.10926984236464223),\n",
              " (('monster', 'movie'), 0.10678976290159214),\n",
              " (('monster', 'love'), 0.10432087451101044),\n",
              " (('monster', 'hero'), 0.10349134687461214),\n",
              " (('monster', 'boy'), 0.10289496510285681),\n",
              " (('monster', 'cat'), 0.1026999318879786)]"
            ]
          },
          "metadata": {},
          "execution_count": 23
        }
      ]
    },
    {
      "cell_type": "markdown",
      "source": [
        "### 1.4.2  Part-of-speech tag similarity in nearest neighbors (7 points)"
      ],
      "metadata": {
        "id": "mgomnLilvZbo"
      }
    },
    {
      "cell_type": "code",
      "source": [
        "nearest_neighbors(C_PMI_1, V_dict, \"neighbors\") # Noun"
      ],
      "metadata": {
        "colab": {
          "base_uri": "https://localhost:8080/",
          "height": 35
        },
        "id": "JRUPmMwSYfcY",
        "outputId": "fef79b98-8dc1-48eb-9981-ca6a97ecfb85"
      },
      "execution_count": null,
      "outputs": [
        {
          "output_type": "execute_result",
          "data": {
            "text/plain": [
              "'This query does not exist in the vocabulary'"
            ],
            "application/vnd.google.colaboratory.intrinsic+json": {
              "type": "string"
            }
          },
          "metadata": {},
          "execution_count": 24
        }
      ]
    },
    {
      "cell_type": "markdown",
      "source": [
        "Hầu hết neighbors là danh từ trừ từ \"nomadic\" là tính từ"
      ],
      "metadata": {
        "id": "zPx9Spb-zxtz"
      }
    },
    {
      "cell_type": "code",
      "source": [
        "nearest_neighbors(C_PMI_6, V_dict, \"neighbors\") # Noun"
      ],
      "metadata": {
        "colab": {
          "base_uri": "https://localhost:8080/",
          "height": 35
        },
        "id": "ys5tuAgdYlwx",
        "outputId": "d29287f4-5f2f-4b39-f7c1-23450ddd4f57"
      },
      "execution_count": null,
      "outputs": [
        {
          "output_type": "execute_result",
          "data": {
            "text/plain": [
              "'This query does not exist in the vocabulary'"
            ],
            "application/vnd.google.colaboratory.intrinsic+json": {
              "type": "string"
            }
          },
          "metadata": {},
          "execution_count": 25
        }
      ]
    },
    {
      "cell_type": "markdown",
      "source": [
        "Đa số neighbors không phải là danh từ"
      ],
      "metadata": {
        "id": "tx2iAJITaYgt"
      }
    },
    {
      "cell_type": "code",
      "source": [
        "nearest_neighbors(C_PMI_1, V_dict, \"questions\") # Noun"
      ],
      "metadata": {
        "colab": {
          "base_uri": "https://localhost:8080/",
          "height": 35
        },
        "id": "ZQ-3Ul21YhVs",
        "outputId": "d25520ae-43b9-4f5b-d154-c36c89fad0d0"
      },
      "execution_count": null,
      "outputs": [
        {
          "output_type": "execute_result",
          "data": {
            "text/plain": [
              "'This query does not exist in the vocabulary'"
            ],
            "application/vnd.google.colaboratory.intrinsic+json": {
              "type": "string"
            }
          },
          "metadata": {},
          "execution_count": 26
        }
      ]
    },
    {
      "cell_type": "markdown",
      "source": [
        "Tất cả đều là danh từ"
      ],
      "metadata": {
        "id": "wkwgpyzK1wvZ"
      }
    },
    {
      "cell_type": "code",
      "source": [
        "nearest_neighbors(C_PMI_6, V_dict, \"questions\") # Noun"
      ],
      "metadata": {
        "colab": {
          "base_uri": "https://localhost:8080/",
          "height": 35
        },
        "id": "ATdFzVhzYmFl",
        "outputId": "490451ea-93f3-4442-c1df-f0e6745573be"
      },
      "execution_count": null,
      "outputs": [
        {
          "output_type": "execute_result",
          "data": {
            "text/plain": [
              "'This query does not exist in the vocabulary'"
            ],
            "application/vnd.google.colaboratory.intrinsic+json": {
              "type": "string"
            }
          },
          "metadata": {},
          "execution_count": 27
        }
      ]
    },
    {
      "cell_type": "markdown",
      "source": [
        "Chỉ có top 3 là danh từ"
      ],
      "metadata": {
        "id": "lkcxuAbmam7x"
      }
    },
    {
      "cell_type": "code",
      "source": [
        "nearest_neighbors(C_PMI_1, V_dict, \"transported\") # Verb"
      ],
      "metadata": {
        "colab": {
          "base_uri": "https://localhost:8080/",
          "height": 35
        },
        "id": "zuSGSvi0Yhin",
        "outputId": "8f2e0e14-b01a-4385-cf50-821715f8d419"
      },
      "execution_count": null,
      "outputs": [
        {
          "output_type": "execute_result",
          "data": {
            "text/plain": [
              "'This query does not exist in the vocabulary'"
            ],
            "application/vnd.google.colaboratory.intrinsic+json": {
              "type": "string"
            }
          },
          "metadata": {},
          "execution_count": 28
        }
      ]
    },
    {
      "cell_type": "markdown",
      "source": [
        "Tất cả đều là động từ, 9 từ ở dạng V-ed, 1 từ dạng V-ing. Một số từ V-ed có thể xem như tính từ."
      ],
      "metadata": {
        "id": "oGg4xf822S24"
      }
    },
    {
      "cell_type": "code",
      "source": [
        "nearest_neighbors(C_PMI_6, V_dict, \"transported\") # Verb"
      ],
      "metadata": {
        "colab": {
          "base_uri": "https://localhost:8080/",
          "height": 35
        },
        "id": "o9RIS81DYmcw",
        "outputId": "ff0aad00-cca0-4bcd-c94f-f5915dcef2bd"
      },
      "execution_count": null,
      "outputs": [
        {
          "output_type": "execute_result",
          "data": {
            "text/plain": [
              "'This query does not exist in the vocabulary'"
            ],
            "application/vnd.google.colaboratory.intrinsic+json": {
              "type": "string"
            }
          },
          "metadata": {},
          "execution_count": 29
        }
      ]
    },
    {
      "cell_type": "markdown",
      "source": [
        "Nhiều từ có thể được xem là danh từ hoặc động từ. Có thêm dạng động từ nguyên mẫu và dạng thêm s."
      ],
      "metadata": {
        "id": "tgYL0JotaoCe"
      }
    },
    {
      "cell_type": "code",
      "source": [
        "nearest_neighbors(C_PMI_1, V_dict, \"choosing\") # Verb"
      ],
      "metadata": {
        "colab": {
          "base_uri": "https://localhost:8080/",
          "height": 35
        },
        "id": "oO55-tTwYhog",
        "outputId": "e1517406-911c-4957-e679-bc710d04fcc2"
      },
      "execution_count": null,
      "outputs": [
        {
          "output_type": "execute_result",
          "data": {
            "text/plain": [
              "'This query does not exist in the vocabulary'"
            ],
            "application/vnd.google.colaboratory.intrinsic+json": {
              "type": "string"
            }
          },
          "metadata": {},
          "execution_count": 30
        }
      ]
    },
    {
      "cell_type": "code",
      "source": [
        "nearest_neighbors(C_PMI_6, V_dict, \"choosing\") # Verb"
      ],
      "metadata": {
        "colab": {
          "base_uri": "https://localhost:8080/",
          "height": 35
        },
        "id": "GzjCGKOLYmoa",
        "outputId": "e6e40c0e-c14a-4b3d-aced-aa0398777882"
      },
      "execution_count": null,
      "outputs": [
        {
          "output_type": "execute_result",
          "data": {
            "text/plain": [
              "'This query does not exist in the vocabulary'"
            ],
            "application/vnd.google.colaboratory.intrinsic+json": {
              "type": "string"
            }
          },
          "metadata": {},
          "execution_count": 31
        }
      ]
    },
    {
      "cell_type": "code",
      "source": [
        "nearest_neighbors(C_PMI_1, V_dict, \"nearest\") # Adjective"
      ],
      "metadata": {
        "colab": {
          "base_uri": "https://localhost:8080/",
          "height": 35
        },
        "id": "ySkLMtjRYiLl",
        "outputId": "ac5c7dcb-0cee-4ccd-8842-92a18369e035"
      },
      "execution_count": null,
      "outputs": [
        {
          "output_type": "execute_result",
          "data": {
            "text/plain": [
              "'This query does not exist in the vocabulary'"
            ],
            "application/vnd.google.colaboratory.intrinsic+json": {
              "type": "string"
            }
          },
          "metadata": {},
          "execution_count": 32
        }
      ]
    },
    {
      "cell_type": "code",
      "source": [
        "nearest_neighbors(C_PMI_6, V_dict, \"nearest\") # Adjective"
      ],
      "metadata": {
        "colab": {
          "base_uri": "https://localhost:8080/",
          "height": 35
        },
        "id": "-Kk3VoorYnZm",
        "outputId": "54cb952a-a079-4fdd-d8c8-0ac4b2decad3"
      },
      "execution_count": null,
      "outputs": [
        {
          "output_type": "execute_result",
          "data": {
            "text/plain": [
              "'This query does not exist in the vocabulary'"
            ],
            "application/vnd.google.colaboratory.intrinsic+json": {
              "type": "string"
            }
          },
          "metadata": {},
          "execution_count": 33
        }
      ]
    },
    {
      "cell_type": "code",
      "source": [
        "nearest_neighbors(C_PMI_1, V_dict, \"red\") # Adjective"
      ],
      "metadata": {
        "colab": {
          "base_uri": "https://localhost:8080/"
        },
        "id": "QK77u8J8gDP2",
        "outputId": "52823b22-4438-414d-f11b-a8b0b3f5367b"
      },
      "execution_count": null,
      "outputs": [
        {
          "output_type": "execute_result",
          "data": {
            "text/plain": [
              "[(('red', 'blue'), 0.2507251524119875),\n",
              " (('red', 'white'), 0.24224082527621457),\n",
              " (('red', 'yellow'), 0.23348611677086958),\n",
              " (('red', 'black'), 0.22096817954539033),\n",
              " (('red', 'green'), 0.18656862223003445),\n",
              " (('red', 'pink'), 0.14212413125054302),\n",
              " (('red', 'dark'), 0.14116083684389552),\n",
              " (('red', 'grey'), 0.13087501896795933),\n",
              " (('red', 'orange'), 0.1298641336819239),\n",
              " (('red', 'purple'), 0.11324831827992236)]"
            ]
          },
          "metadata": {},
          "execution_count": 34
        }
      ]
    },
    {
      "cell_type": "code",
      "source": [
        "nearest_neighbors(C_PMI_6, V_dict, \"red\") # Adjective"
      ],
      "metadata": {
        "colab": {
          "base_uri": "https://localhost:8080/"
        },
        "id": "VMItS7tOgEUj",
        "outputId": "56856615-6394-46dd-c856-8adc6d798aba"
      },
      "execution_count": null,
      "outputs": [
        {
          "output_type": "execute_result",
          "data": {
            "text/plain": [
              "[(('red', 'white'), 0.2958261377160541),\n",
              " (('red', 'blue'), 0.28204300808179217),\n",
              " (('red', 'black'), 0.27205099711059616),\n",
              " (('red', 'yellow'), 0.2717077695962567),\n",
              " (('red', 'green'), 0.2478956519596127),\n",
              " (('red', 'dark'), 0.21673158004357795),\n",
              " (('red', 'color'), 0.20177535138446287),\n",
              " (('red', 'brown'), 0.18798147656931585),\n",
              " (('red', 'large'), 0.18792456617966208),\n",
              " (('red', 'light'), 0.1850969547956831)]"
            ]
          },
          "metadata": {},
          "execution_count": 35
        }
      ]
    },
    {
      "cell_type": "markdown",
      "source": [
        "Với query \"red\", có 6 từ cùng nhắm trong 2 kích thước window. Đó là các từ trong top 5 và từ \"dark\""
      ],
      "metadata": {
        "id": "wwyTcP3LgFrz"
      }
    },
    {
      "cell_type": "code",
      "source": [
        "nearest_neighbors(C_PMI_1, V_dict, \"for\") # Preposition"
      ],
      "metadata": {
        "colab": {
          "base_uri": "https://localhost:8080/",
          "height": 35
        },
        "id": "85lrkmrXYfjz",
        "outputId": "9cdfc15c-aa00-4d34-a40a-3d8a38a35415"
      },
      "execution_count": null,
      "outputs": [
        {
          "output_type": "execute_result",
          "data": {
            "text/plain": [
              "'This query does not exist in the vocabulary'"
            ],
            "application/vnd.google.colaboratory.intrinsic+json": {
              "type": "string"
            }
          },
          "metadata": {},
          "execution_count": 36
        }
      ]
    },
    {
      "cell_type": "code",
      "source": [
        "nearest_neighbors(C_PMI_6, V_dict, \"for\") # Preposition"
      ],
      "metadata": {
        "colab": {
          "base_uri": "https://localhost:8080/",
          "height": 35
        },
        "id": "xamZg7nXYnxN",
        "outputId": "6b347028-4754-4855-9a8f-6c593d20c408"
      },
      "execution_count": null,
      "outputs": [
        {
          "output_type": "execute_result",
          "data": {
            "text/plain": [
              "'This query does not exist in the vocabulary'"
            ],
            "application/vnd.google.colaboratory.intrinsic+json": {
              "type": "string"
            }
          },
          "metadata": {},
          "execution_count": 37
        }
      ]
    },
    {
      "cell_type": "code",
      "source": [
        "nearest_neighbors(C_PMI_1, V_dict, \"with\") # Preposition"
      ],
      "metadata": {
        "colab": {
          "base_uri": "https://localhost:8080/",
          "height": 35
        },
        "id": "0TjrW4UdgVeu",
        "outputId": "cb0be410-552c-44a1-92a0-a457c5e3acc9"
      },
      "execution_count": null,
      "outputs": [
        {
          "output_type": "execute_result",
          "data": {
            "text/plain": [
              "'This query does not exist in the vocabulary'"
            ],
            "application/vnd.google.colaboratory.intrinsic+json": {
              "type": "string"
            }
          },
          "metadata": {},
          "execution_count": 38
        }
      ]
    },
    {
      "cell_type": "code",
      "source": [
        "nearest_neighbors(C_PMI_6, V_dict, \"with\") # Preposition"
      ],
      "metadata": {
        "colab": {
          "base_uri": "https://localhost:8080/",
          "height": 35
        },
        "id": "x7grO7DRgWn4",
        "outputId": "2d79ed29-3ca4-439e-b021-43944c7749ea"
      },
      "execution_count": null,
      "outputs": [
        {
          "output_type": "execute_result",
          "data": {
            "text/plain": [
              "'This query does not exist in the vocabulary'"
            ],
            "application/vnd.google.colaboratory.intrinsic+json": {
              "type": "string"
            }
          },
          "metadata": {},
          "execution_count": 39
        }
      ]
    },
    {
      "cell_type": "markdown",
      "source": [
        "Kết luận\n",
        "- Khi context window bằng một, các neighbor gần nghĩa và gần loại từ với query.\n",
        "- Khi context window bằng sáu, các neighbor có liên quan đến query và ít cùng từ loại."
      ],
      "metadata": {
        "id": "Sgd6KZMr01_V"
      }
    },
    {
      "cell_type": "markdown",
      "source": [
        "### 1.4.3  Words with multiple senses (5 points)"
      ],
      "metadata": {
        "id": "k8YOC5Vyz7p9"
      }
    },
    {
      "cell_type": "code",
      "source": [
        "nearest_neighbors(C_PMI_1, V_dict, \"cell\")"
      ],
      "metadata": {
        "colab": {
          "base_uri": "https://localhost:8080/"
        },
        "id": "JuaH2holXhZ8",
        "outputId": "9b42e2fa-1a4a-4411-dbe6-61168dcdb9be"
      },
      "execution_count": null,
      "outputs": [
        {
          "output_type": "execute_result",
          "data": {
            "text/plain": [
              "[(('cell', 'molecule'), 0.09928145975983417),\n",
              " (('cell', 'brain'), 0.09869517757572234),\n",
              " (('cell', 'lung'), 0.08450800704038597),\n",
              " (('cell', 'cancer'), 0.08425443085813719),\n",
              " (('cell', 'normal'), 0.08292697367378025),\n",
              " (('cell', 'plant'), 0.07936581199106123),\n",
              " (('cell', 'blood'), 0.07692113987941758),\n",
              " (('cell', 'disease'), 0.07559582850192856),\n",
              " (('cell', 'can'), 0.07221347844919906),\n",
              " (('cell', 'liver'), 0.06866923382726872)]"
            ]
          },
          "metadata": {},
          "execution_count": 41
        }
      ]
    },
    {
      "cell_type": "code",
      "source": [
        "nearest_neighbors(C_PMI_6, V_dict, \"cell\")"
      ],
      "metadata": {
        "colab": {
          "base_uri": "https://localhost:8080/"
        },
        "id": "vEze6BR0XpSi",
        "outputId": "10f56b1b-1f3a-46aa-e7fc-1f4b75a9c6d8"
      },
      "execution_count": null,
      "outputs": [
        {
          "output_type": "execute_result",
          "data": {
            "text/plain": [
              "[(('cell', 'can'), 0.22709130449653295),\n",
              " (('cell', 'blood'), 0.21310900705834288),\n",
              " (('cell', 'brain'), 0.2066472333042203),\n",
              " (('cell', 'activity'), 0.1920220130520307),\n",
              " (('cell', 'cancer'), 0.17882546685858008),\n",
              " (('cell', 'different'), 0.17864141021679616),\n",
              " (('cell', 'molecule'), 0.17793049545894005),\n",
              " (('cell', 'disease'), 0.16832885168705722),\n",
              " (('cell', 'skin'), 0.16356679519936562),\n",
              " (('cell', 'body'), 0.16009298613648762)]"
            ]
          },
          "metadata": {},
          "execution_count": 42
        }
      ]
    },
    {
      "cell_type": "markdown",
      "source": [
        "Cả 2 kích thước window, các neighbor đều liên quan đến sinh học"
      ],
      "metadata": {
        "id": "-tQrn66Fg3d9"
      }
    },
    {
      "cell_type": "code",
      "source": [
        "nearest_neighbors(C_PMI_1, V_dict, \"light\")"
      ],
      "metadata": {
        "colab": {
          "base_uri": "https://localhost:8080/"
        },
        "id": "l0nF2_IGXl_z",
        "outputId": "e7fce56e-1628-4b7d-e01d-409d3d346ab8"
      },
      "execution_count": null,
      "outputs": [
        {
          "output_type": "execute_result",
          "data": {
            "text/plain": [
              "[(('light', 'heavy'), 0.1391687540574776),\n",
              " (('light', 'fire'), 0.10601406403980551),\n",
              " (('light', 'bright'), 0.10344957151183123),\n",
              " (('light', 'dark'), 0.09381568317970057),\n",
              " (('light', 'water'), 0.09360462944277936),\n",
              " (('light', 'large'), 0.08932970992436358),\n",
              " (('light', 'sunlight'), 0.08870832892760544),\n",
              " (('light', 'lighting'), 0.08797302326701555),\n",
              " (('light', 'air'), 0.08406458462988466),\n",
              " (('light', 'small'), 0.08268490928598608)]"
            ]
          },
          "metadata": {},
          "execution_count": 43
        }
      ]
    },
    {
      "cell_type": "markdown",
      "source": [
        "\"heavy\" là trái nghĩa với nhẹ, \"dark\" là trái nghĩa với \"ánh sáng\""
      ],
      "metadata": {
        "id": "3ILxlPz29sPW"
      }
    },
    {
      "cell_type": "code",
      "source": [
        "nearest_neighbors(C_PMI_6, V_dict, \"light\")"
      ],
      "metadata": {
        "colab": {
          "base_uri": "https://localhost:8080/"
        },
        "id": "GewK26iPXrg9",
        "outputId": "1cf52930-189a-4b78-8558-133df4a10586"
      },
      "execution_count": null,
      "outputs": [
        {
          "output_type": "execute_result",
          "data": {
            "text/plain": [
              "[(('light', 'can'), 0.22897033486181728),\n",
              " (('light', 'water'), 0.20215755248553305),\n",
              " (('light', 'dark'), 0.19867969778536185),\n",
              " (('light', 'small'), 0.19067854538108842),\n",
              " (('light', 'color'), 0.19062148509712923),\n",
              " (('light', 'heavy'), 0.1905159130570544),\n",
              " (('light', 'different'), 0.18831159000280728),\n",
              " (('light', 'large'), 0.18818737080275355),\n",
              " (('light', 'red'), 0.1850969547956831),\n",
              " (('light', 'body'), 0.18499945492266368)]"
            ]
          },
          "metadata": {},
          "execution_count": 44
        }
      ]
    },
    {
      "cell_type": "markdown",
      "source": [
        "Chỉ mỗi từ \"dark\" liên quan"
      ],
      "metadata": {
        "id": "0fElCt-Kg39p"
      }
    },
    {
      "cell_type": "code",
      "source": [
        "nearest_neighbors(C_PMI_1, V_dict, \"well\")"
      ],
      "metadata": {
        "colab": {
          "base_uri": "https://localhost:8080/",
          "height": 35
        },
        "id": "siye8ArQXnST",
        "outputId": "0f30e72b-69e4-46e2-f98b-106536a7e2a1"
      },
      "execution_count": null,
      "outputs": [
        {
          "output_type": "execute_result",
          "data": {
            "text/plain": [
              "'This query does not exist in the vocabulary'"
            ],
            "application/vnd.google.colaboratory.intrinsic+json": {
              "type": "string"
            }
          },
          "metadata": {},
          "execution_count": 45
        }
      ]
    },
    {
      "cell_type": "markdown",
      "source": [
        "Đa số là các từ mang nghĩa tích cực, một từ trái nghĩa \"poorly\" và một từ \"not\" phủ định. \"well\" trong bối cảnh này mang nghĩa \"tốt\""
      ],
      "metadata": {
        "id": "N539LAJh8xMA"
      }
    },
    {
      "cell_type": "code",
      "source": [
        "nearest_neighbors(C_PMI_6, V_dict, \"well\")"
      ],
      "metadata": {
        "colab": {
          "base_uri": "https://localhost:8080/",
          "height": 35
        },
        "id": "rUAvjClHXuNv",
        "outputId": "ab4c037b-bc7b-4709-c8d4-2f18eb901624"
      },
      "execution_count": null,
      "outputs": [
        {
          "output_type": "execute_result",
          "data": {
            "text/plain": [
              "'This query does not exist in the vocabulary'"
            ],
            "application/vnd.google.colaboratory.intrinsic+json": {
              "type": "string"
            }
          },
          "metadata": {},
          "execution_count": 46
        }
      ]
    },
    {
      "cell_type": "markdown",
      "source": [
        "Khá nhiều từ phổ biến, không có từ nào liên quan đến \"well\""
      ],
      "metadata": {
        "id": "NEqMQSYbg4lr"
      }
    },
    {
      "cell_type": "markdown",
      "source": [
        "Kết luận\n",
        "- Khi query word là các từ có nhiều nghĩa, các neigbor có thể đồng nghĩa, trái nghĩa, hoặc liên quan đến các nghĩa khác nhau của query.\n",
        "- Đôi lúc các neigbor chỉ liên quan đến một nghĩa của query\n",
        "- Khi window bằng 6, có trường hợp nhiều từ phổ biến không liên quan đến query xuất hiện"
      ],
      "metadata": {
        "id": "viIglMOK-dOe"
      }
    },
    {
      "cell_type": "markdown",
      "source": [
        "# 2. Extra Credit: Dimensionality Reduction (5 extra points possible)"
      ],
      "metadata": {
        "id": "TuKy8t5KbKaE"
      }
    },
    {
      "cell_type": "code",
      "source": [
        "V2 = open('31190-a1-files/vocab-25k+wordsim.txt').read().split('\\n')[:-1] \n",
        "V2_C = open('31190-a1-files/vocab-3k.txt').read().split('\\n')[:-1] \n",
        "\n",
        "V2_dict = {word.strip(): idx for idx, word in enumerate(V2)}   \n",
        "V2_C_dict = {word.strip(): idx for idx, word in enumerate(V2_C)}"
      ],
      "metadata": {
        "id": "CqIhsR4MbJ1E"
      },
      "execution_count": null,
      "outputs": []
    },
    {
      "cell_type": "code",
      "source": [
        "print(len(V2_C))\n",
        "print(len(V2))"
      ],
      "metadata": {
        "colab": {
          "base_uri": "https://localhost:8080/"
        },
        "id": "RMJBgTcncchF",
        "outputId": "5b710204-549b-4326-ae24-4d989cd3b6bb"
      },
      "execution_count": null,
      "outputs": [
        {
          "output_type": "stream",
          "name": "stdout",
          "text": [
            "3000\n",
            "26577\n"
          ]
        }
      ]
    },
    {
      "cell_type": "code",
      "source": [
        "C2_window_3 = gen_words_context(corpus, V2_dict, V2_C_dict, V2, V2_C, 3)"
      ],
      "metadata": {
        "colab": {
          "base_uri": "https://localhost:8080/"
        },
        "id": "1e8XkLiLceMW",
        "outputId": "a7dd345a-b721-4b5e-de99-1e543b1c1c4d"
      },
      "execution_count": null,
      "outputs": [
        {
          "output_type": "stream",
          "name": "stderr",
          "text": [
            "100%|██████████| 997898/997898 [01:52<00:00, 8889.71it/s]\n"
          ]
        }
      ]
    },
    {
      "cell_type": "markdown",
      "source": [
        "## Baseline with just word counts"
      ],
      "metadata": {
        "id": "QzxoE6qldq3E"
      }
    },
    {
      "cell_type": "code",
      "source": [
        "C2_window_3_df = pd.DataFrame(C2_window_3, columns=V2_C, index=V2)\n",
        "ind = C2_window_3_df.index"
      ],
      "metadata": {
        "id": "_wgoqLJjfIW0"
      },
      "execution_count": null,
      "outputs": []
    },
    {
      "cell_type": "code",
      "source": [
        "men2_window_3 = calculate_spearmen(C2_window_3, V2_dict, read_annotation('/content/31190-a1-files/men.txt'))\n",
        "simlex2_window_3 = calculate_spearmen(C2_window_3, V2_dict, read_annotation('/content/31190-a1-files/simlex-999.txt'))\n",
        "print(men2_window_3)\n",
        "print(simlex2_window_3)"
      ],
      "metadata": {
        "colab": {
          "base_uri": "https://localhost:8080/"
        },
        "id": "7Syo0aGmdXZG",
        "outputId": "12434059-f76c-47bc-9761-f3d2465259ed"
      },
      "execution_count": null,
      "outputs": [
        {
          "output_type": "stream",
          "name": "stdout",
          "text": [
            "0.23223229343659896\n",
            "0.06530866131712797\n"
          ]
        },
        {
          "output_type": "stream",
          "name": "stderr",
          "text": [
            "/usr/local/lib/python3.7/dist-packages/scipy/spatial/distance.py:699: RuntimeWarning: invalid value encountered in double_scalars\n",
            "  dist = 1.0 - uv / np.sqrt(uu * vv)\n"
          ]
        }
      ]
    },
    {
      "cell_type": "markdown",
      "source": [
        "## Baseline with just PMI"
      ],
      "metadata": {
        "id": "AyUVWSSWdssH"
      }
    },
    {
      "cell_type": "code",
      "source": [
        "C2_PMI_3 = gen_PMI(C2_window_3)\n",
        "C2_PMI_3_df = pd.DataFrame(C2_PMI_3, columns=V2_C, index=V2)\n",
        "\n",
        "C2_PMI_3_df.head()"
      ],
      "metadata": {
        "colab": {
          "base_uri": "https://localhost:8080/"
        },
        "id": "4VJyYTOtd3Ps",
        "outputId": "7e013de9-9d08-4faf-93db-e0e4d994b173"
      },
      "execution_count": null,
      "outputs": [
        {
          "output_type": "stream",
          "name": "stderr",
          "text": [
            "/usr/local/lib/python3.7/dist-packages/ipykernel_launcher.py:40: RuntimeWarning: invalid value encountered in true_divide\n"
          ]
        },
        {
          "output_type": "execute_result",
          "data": {
            "text/plain": [
              "           <s>      </s>  the    .         ,        of       and        in  \\\n",
              "<s>   0.000000  0.000000  0.0  0.0  0.000000  0.000000  0.000000  0.000000   \n",
              "</s>  0.000000  0.000000  0.0  0.0  0.000000  0.000000  0.000000  0.000000   \n",
              "the   0.455212  0.000000  0.0  0.0  0.000000  1.088726  0.000000  0.285624   \n",
              ".     0.000000  3.259107  0.0  0.0  0.000000  0.000000  0.000000  0.000000   \n",
              ",     0.000000  0.000000  0.0  0.0  0.157049  0.000000  0.613777  0.227397   \n",
              "\n",
              "            to    a  ...   formula  supposed      anne      ncaa  technique  \\\n",
              "<s>   0.000000  0.0  ...  0.000000       0.0  0.000000  0.000000   0.000000   \n",
              "</s>  0.000000  0.0  ...  0.000000       0.0  0.000000  0.000000   0.000000   \n",
              "the   0.018892  0.0  ...  0.500764       0.0  0.000000  0.754418   0.313764   \n",
              ".     0.000000  0.0  ...  0.079864       0.0  0.000000  0.000000   0.000000   \n",
              ",     0.000000  0.0  ...  0.000000       0.0  1.131736  0.000000   0.000000   \n",
              "\n",
              "          1912  regulations  suitable  constant  shooting  \n",
              "<s>   0.000000          0.0       0.0  0.000000  0.000000  \n",
              "</s>  0.000000          0.0       0.0  0.000000  0.000000  \n",
              "the   0.000000          0.0       0.0  0.063569  0.309538  \n",
              ".     0.939677          0.0       0.0  0.000000  0.000000  \n",
              ",     0.983932          0.0       0.0  0.145568  0.000000  \n",
              "\n",
              "[5 rows x 3000 columns]"
            ],
            "text/html": [
              "\n",
              "  <div id=\"df-b4aad739-fd86-428b-83d7-aaaf5b1b723e\">\n",
              "    <div class=\"colab-df-container\">\n",
              "      <div>\n",
              "<style scoped>\n",
              "    .dataframe tbody tr th:only-of-type {\n",
              "        vertical-align: middle;\n",
              "    }\n",
              "\n",
              "    .dataframe tbody tr th {\n",
              "        vertical-align: top;\n",
              "    }\n",
              "\n",
              "    .dataframe thead th {\n",
              "        text-align: right;\n",
              "    }\n",
              "</style>\n",
              "<table border=\"1\" class=\"dataframe\">\n",
              "  <thead>\n",
              "    <tr style=\"text-align: right;\">\n",
              "      <th></th>\n",
              "      <th>&lt;s&gt;</th>\n",
              "      <th>&lt;/s&gt;</th>\n",
              "      <th>the</th>\n",
              "      <th>.</th>\n",
              "      <th>,</th>\n",
              "      <th>of</th>\n",
              "      <th>and</th>\n",
              "      <th>in</th>\n",
              "      <th>to</th>\n",
              "      <th>a</th>\n",
              "      <th>...</th>\n",
              "      <th>formula</th>\n",
              "      <th>supposed</th>\n",
              "      <th>anne</th>\n",
              "      <th>ncaa</th>\n",
              "      <th>technique</th>\n",
              "      <th>1912</th>\n",
              "      <th>regulations</th>\n",
              "      <th>suitable</th>\n",
              "      <th>constant</th>\n",
              "      <th>shooting</th>\n",
              "    </tr>\n",
              "  </thead>\n",
              "  <tbody>\n",
              "    <tr>\n",
              "      <th>&lt;s&gt;</th>\n",
              "      <td>0.000000</td>\n",
              "      <td>0.000000</td>\n",
              "      <td>0.0</td>\n",
              "      <td>0.0</td>\n",
              "      <td>0.000000</td>\n",
              "      <td>0.000000</td>\n",
              "      <td>0.000000</td>\n",
              "      <td>0.000000</td>\n",
              "      <td>0.000000</td>\n",
              "      <td>0.0</td>\n",
              "      <td>...</td>\n",
              "      <td>0.000000</td>\n",
              "      <td>0.0</td>\n",
              "      <td>0.000000</td>\n",
              "      <td>0.000000</td>\n",
              "      <td>0.000000</td>\n",
              "      <td>0.000000</td>\n",
              "      <td>0.0</td>\n",
              "      <td>0.0</td>\n",
              "      <td>0.000000</td>\n",
              "      <td>0.000000</td>\n",
              "    </tr>\n",
              "    <tr>\n",
              "      <th>&lt;/s&gt;</th>\n",
              "      <td>0.000000</td>\n",
              "      <td>0.000000</td>\n",
              "      <td>0.0</td>\n",
              "      <td>0.0</td>\n",
              "      <td>0.000000</td>\n",
              "      <td>0.000000</td>\n",
              "      <td>0.000000</td>\n",
              "      <td>0.000000</td>\n",
              "      <td>0.000000</td>\n",
              "      <td>0.0</td>\n",
              "      <td>...</td>\n",
              "      <td>0.000000</td>\n",
              "      <td>0.0</td>\n",
              "      <td>0.000000</td>\n",
              "      <td>0.000000</td>\n",
              "      <td>0.000000</td>\n",
              "      <td>0.000000</td>\n",
              "      <td>0.0</td>\n",
              "      <td>0.0</td>\n",
              "      <td>0.000000</td>\n",
              "      <td>0.000000</td>\n",
              "    </tr>\n",
              "    <tr>\n",
              "      <th>the</th>\n",
              "      <td>0.455212</td>\n",
              "      <td>0.000000</td>\n",
              "      <td>0.0</td>\n",
              "      <td>0.0</td>\n",
              "      <td>0.000000</td>\n",
              "      <td>1.088726</td>\n",
              "      <td>0.000000</td>\n",
              "      <td>0.285624</td>\n",
              "      <td>0.018892</td>\n",
              "      <td>0.0</td>\n",
              "      <td>...</td>\n",
              "      <td>0.500764</td>\n",
              "      <td>0.0</td>\n",
              "      <td>0.000000</td>\n",
              "      <td>0.754418</td>\n",
              "      <td>0.313764</td>\n",
              "      <td>0.000000</td>\n",
              "      <td>0.0</td>\n",
              "      <td>0.0</td>\n",
              "      <td>0.063569</td>\n",
              "      <td>0.309538</td>\n",
              "    </tr>\n",
              "    <tr>\n",
              "      <th>.</th>\n",
              "      <td>0.000000</td>\n",
              "      <td>3.259107</td>\n",
              "      <td>0.0</td>\n",
              "      <td>0.0</td>\n",
              "      <td>0.000000</td>\n",
              "      <td>0.000000</td>\n",
              "      <td>0.000000</td>\n",
              "      <td>0.000000</td>\n",
              "      <td>0.000000</td>\n",
              "      <td>0.0</td>\n",
              "      <td>...</td>\n",
              "      <td>0.079864</td>\n",
              "      <td>0.0</td>\n",
              "      <td>0.000000</td>\n",
              "      <td>0.000000</td>\n",
              "      <td>0.000000</td>\n",
              "      <td>0.939677</td>\n",
              "      <td>0.0</td>\n",
              "      <td>0.0</td>\n",
              "      <td>0.000000</td>\n",
              "      <td>0.000000</td>\n",
              "    </tr>\n",
              "    <tr>\n",
              "      <th>,</th>\n",
              "      <td>0.000000</td>\n",
              "      <td>0.000000</td>\n",
              "      <td>0.0</td>\n",
              "      <td>0.0</td>\n",
              "      <td>0.157049</td>\n",
              "      <td>0.000000</td>\n",
              "      <td>0.613777</td>\n",
              "      <td>0.227397</td>\n",
              "      <td>0.000000</td>\n",
              "      <td>0.0</td>\n",
              "      <td>...</td>\n",
              "      <td>0.000000</td>\n",
              "      <td>0.0</td>\n",
              "      <td>1.131736</td>\n",
              "      <td>0.000000</td>\n",
              "      <td>0.000000</td>\n",
              "      <td>0.983932</td>\n",
              "      <td>0.0</td>\n",
              "      <td>0.0</td>\n",
              "      <td>0.145568</td>\n",
              "      <td>0.000000</td>\n",
              "    </tr>\n",
              "  </tbody>\n",
              "</table>\n",
              "<p>5 rows × 3000 columns</p>\n",
              "</div>\n",
              "      <button class=\"colab-df-convert\" onclick=\"convertToInteractive('df-b4aad739-fd86-428b-83d7-aaaf5b1b723e')\"\n",
              "              title=\"Convert this dataframe to an interactive table.\"\n",
              "              style=\"display:none;\">\n",
              "        \n",
              "  <svg xmlns=\"http://www.w3.org/2000/svg\" height=\"24px\"viewBox=\"0 0 24 24\"\n",
              "       width=\"24px\">\n",
              "    <path d=\"M0 0h24v24H0V0z\" fill=\"none\"/>\n",
              "    <path d=\"M18.56 5.44l.94 2.06.94-2.06 2.06-.94-2.06-.94-.94-2.06-.94 2.06-2.06.94zm-11 1L8.5 8.5l.94-2.06 2.06-.94-2.06-.94L8.5 2.5l-.94 2.06-2.06.94zm10 10l.94 2.06.94-2.06 2.06-.94-2.06-.94-.94-2.06-.94 2.06-2.06.94z\"/><path d=\"M17.41 7.96l-1.37-1.37c-.4-.4-.92-.59-1.43-.59-.52 0-1.04.2-1.43.59L10.3 9.45l-7.72 7.72c-.78.78-.78 2.05 0 2.83L4 21.41c.39.39.9.59 1.41.59.51 0 1.02-.2 1.41-.59l7.78-7.78 2.81-2.81c.8-.78.8-2.07 0-2.86zM5.41 20L4 18.59l7.72-7.72 1.47 1.35L5.41 20z\"/>\n",
              "  </svg>\n",
              "      </button>\n",
              "      \n",
              "  <style>\n",
              "    .colab-df-container {\n",
              "      display:flex;\n",
              "      flex-wrap:wrap;\n",
              "      gap: 12px;\n",
              "    }\n",
              "\n",
              "    .colab-df-convert {\n",
              "      background-color: #E8F0FE;\n",
              "      border: none;\n",
              "      border-radius: 50%;\n",
              "      cursor: pointer;\n",
              "      display: none;\n",
              "      fill: #1967D2;\n",
              "      height: 32px;\n",
              "      padding: 0 0 0 0;\n",
              "      width: 32px;\n",
              "    }\n",
              "\n",
              "    .colab-df-convert:hover {\n",
              "      background-color: #E2EBFA;\n",
              "      box-shadow: 0px 1px 2px rgba(60, 64, 67, 0.3), 0px 1px 3px 1px rgba(60, 64, 67, 0.15);\n",
              "      fill: #174EA6;\n",
              "    }\n",
              "\n",
              "    [theme=dark] .colab-df-convert {\n",
              "      background-color: #3B4455;\n",
              "      fill: #D2E3FC;\n",
              "    }\n",
              "\n",
              "    [theme=dark] .colab-df-convert:hover {\n",
              "      background-color: #434B5C;\n",
              "      box-shadow: 0px 1px 3px 1px rgba(0, 0, 0, 0.15);\n",
              "      filter: drop-shadow(0px 1px 2px rgba(0, 0, 0, 0.3));\n",
              "      fill: #FFFFFF;\n",
              "    }\n",
              "  </style>\n",
              "\n",
              "      <script>\n",
              "        const buttonEl =\n",
              "          document.querySelector('#df-b4aad739-fd86-428b-83d7-aaaf5b1b723e button.colab-df-convert');\n",
              "        buttonEl.style.display =\n",
              "          google.colab.kernel.accessAllowed ? 'block' : 'none';\n",
              "\n",
              "        async function convertToInteractive(key) {\n",
              "          const element = document.querySelector('#df-b4aad739-fd86-428b-83d7-aaaf5b1b723e');\n",
              "          const dataTable =\n",
              "            await google.colab.kernel.invokeFunction('convertToInteractive',\n",
              "                                                     [key], {});\n",
              "          if (!dataTable) return;\n",
              "\n",
              "          const docLinkHtml = 'Like what you see? Visit the ' +\n",
              "            '<a target=\"_blank\" href=https://colab.research.google.com/notebooks/data_table.ipynb>data table notebook</a>'\n",
              "            + ' to learn more about interactive tables.';\n",
              "          element.innerHTML = '';\n",
              "          dataTable['output_type'] = 'display_data';\n",
              "          await google.colab.output.renderOutput(dataTable, element);\n",
              "          const docLink = document.createElement('div');\n",
              "          docLink.innerHTML = docLinkHtml;\n",
              "          element.appendChild(docLink);\n",
              "        }\n",
              "      </script>\n",
              "    </div>\n",
              "  </div>\n",
              "  "
            ]
          },
          "metadata": {},
          "execution_count": 52
        }
      ]
    },
    {
      "cell_type": "code",
      "source": [
        "men2_PMI_window_3 = calculate_spearmen(C2_window_3, V2_dict, read_annotation('/content/31190-a1-files/men.txt'))\n",
        "simlex2_PMI_window_3 = calculate_spearmen(C2_PMI_3, V2_dict, read_annotation('/content/31190-a1-files/simlex-999.txt'))\n",
        "print(men2_PMI_window_3)\n",
        "print(simlex2_PMI_window_3)"
      ],
      "metadata": {
        "colab": {
          "base_uri": "https://localhost:8080/"
        },
        "id": "bSKUcdMrezhT",
        "outputId": "7e26ec66-d94b-44cd-b632-ae2a1e4f2f28"
      },
      "execution_count": null,
      "outputs": [
        {
          "output_type": "stream",
          "name": "stdout",
          "text": [
            "0.23223229343659896\n",
            "0.16821930687011677\n"
          ]
        },
        {
          "output_type": "stream",
          "name": "stderr",
          "text": [
            "/usr/local/lib/python3.7/dist-packages/scipy/spatial/distance.py:699: RuntimeWarning: invalid value encountered in double_scalars\n",
            "  dist = 1.0 - uv / np.sqrt(uu * vv)\n"
          ]
        }
      ]
    },
    {
      "cell_type": "code",
      "source": [
        "sparse_PMI = csr_matrix(C2_window_3)\n",
        "ind = list(ind)\n",
        "k_10_svd = TruncatedSVD(n_components=10).fit_transform(sparse_PMI)\n",
        "k_50_svd = TruncatedSVD(n_components=50).fit_transform(sparse_PMI)\n",
        "k_100_svd = TruncatedSVD(n_components=100).fit_transform(sparse_PMI)\n",
        "k_500_svd = TruncatedSVD(n_components=500).fit_transform(sparse_PMI)\n",
        "k_1000_svd = TruncatedSVD(n_components=1000).fit_transform(sparse_PMI)"
      ],
      "metadata": {
        "id": "R-c4DVPqgcJs"
      },
      "execution_count": null,
      "outputs": []
    },
    {
      "cell_type": "code",
      "source": [
        "def spearmenr_dim(svd_mtx, human_dict, index_mapping):\n",
        "    \"\"\"\n",
        "    Given a truncated SVD matrix, a dictionary containing pairs of words as keys\n",
        "    and their associated human annotated similarity scores as values, and an index mapping\n",
        "    of words to row values from the original vocabulary - this function will calculate the spearmen\n",
        "    correlation coefficient between the cosine similarity of word pairs in the SVD matrix and their human\n",
        "    annotated counterparts.\n",
        "    \"\"\"\n",
        "    svd_cosine_sim = {}\n",
        "    svd_sim_list = []\n",
        "    human_sim_list = []\n",
        "    \n",
        "    for pair in human_dict:\n",
        "        first, second = pair\n",
        "        if first in index_mapping and second in index_mapping:\n",
        "            first_index = index_mapping.index(first)\n",
        "            second_index = index_mapping.index(second)\n",
        "            vec_1 = csr_matrix(svd_mtx[first_index, :].reshape(1,-1)) #sparse array\n",
        "            vec_2 = csr_matrix(svd_mtx[second_index, :].reshape(1,-1)) #sparse array\n",
        "            svd_cosine_sim[pair] = cosine_similarity(vec_1, vec_2)[0][0]\n",
        "        else:\n",
        "            svd_cosine_sim[pair] = 0.0\n",
        "    \n",
        "    for pair in human_dict:\n",
        "        svd_sim_list.append(svd_cosine_sim[pair])\n",
        "        human_sim_list.append(human_dict[pair])\n",
        "    \n",
        "    \n",
        "    return spearmanr(svd_sim_list, human_sim_list, axis=None).correlation"
      ],
      "metadata": {
        "id": "CpGCxogOglkW"
      },
      "execution_count": null,
      "outputs": []
    },
    {
      "cell_type": "code",
      "source": [
        "men_dict = read_annotation(\"31190-a1-files/men.txt\")\n",
        "simlex_999_dict = read_annotation(\"31190-a1-files/simlex-999.txt\")"
      ],
      "metadata": {
        "id": "5-edqZZQgpe0"
      },
      "execution_count": null,
      "outputs": []
    },
    {
      "cell_type": "code",
      "source": [
        "results = [(spearmenr_dim(k_10_svd, men_dict, ind), spearmenr_dim(k_10_svd, simlex_999_dict, ind)),\n",
        "          (spearmenr_dim(k_50_svd, men_dict, ind), spearmenr_dim(k_50_svd, simlex_999_dict, ind)),\n",
        "          (spearmenr_dim(k_100_svd, men_dict, ind), spearmenr_dim(k_100_svd, simlex_999_dict, ind)),\n",
        "          (spearmenr_dim(k_500_svd, men_dict, ind), spearmenr_dim(k_500_svd, simlex_999_dict, ind)),\n",
        "          (spearmenr_dim(k_1000_svd, men_dict, ind), spearmenr_dim(k_1000_svd, simlex_999_dict, ind))]\n",
        "index = [10,50,100,500,1000]\n",
        "columns = [\"MEN-DataSet\", \"SimLex-999\"]\n",
        "pd.DataFrame(results, index=index, columns=columns)"
      ],
      "metadata": {
        "colab": {
          "base_uri": "https://localhost:8080/"
        },
        "id": "UGLG8A1Tgvuv",
        "outputId": "0a9a6e81-07b7-4422-d451-3ac2320b9edf"
      },
      "execution_count": null,
      "outputs": [
        {
          "output_type": "stream",
          "name": "stderr",
          "text": [
            "/usr/local/lib/python3.7/dist-packages/scipy/stats/stats.py:4484: SpearmanRConstantInputWarning: An input array is constant; the correlation coefficient is not defined.\n",
            "  warnings.warn(SpearmanRConstantInputWarning())\n"
          ]
        },
        {
          "output_type": "execute_result",
          "data": {
            "text/plain": [
              "      MEN-DataSet  SimLex-999\n",
              "10       0.031839         NaN\n",
              "50       0.031800         NaN\n",
              "100      0.031797         NaN\n",
              "500      0.031824         NaN\n",
              "1000     0.031834         NaN"
            ],
            "text/html": [
              "\n",
              "  <div id=\"df-b59f3a37-8873-4d80-a0ca-bbf497864620\">\n",
              "    <div class=\"colab-df-container\">\n",
              "      <div>\n",
              "<style scoped>\n",
              "    .dataframe tbody tr th:only-of-type {\n",
              "        vertical-align: middle;\n",
              "    }\n",
              "\n",
              "    .dataframe tbody tr th {\n",
              "        vertical-align: top;\n",
              "    }\n",
              "\n",
              "    .dataframe thead th {\n",
              "        text-align: right;\n",
              "    }\n",
              "</style>\n",
              "<table border=\"1\" class=\"dataframe\">\n",
              "  <thead>\n",
              "    <tr style=\"text-align: right;\">\n",
              "      <th></th>\n",
              "      <th>MEN-DataSet</th>\n",
              "      <th>SimLex-999</th>\n",
              "    </tr>\n",
              "  </thead>\n",
              "  <tbody>\n",
              "    <tr>\n",
              "      <th>10</th>\n",
              "      <td>0.031839</td>\n",
              "      <td>NaN</td>\n",
              "    </tr>\n",
              "    <tr>\n",
              "      <th>50</th>\n",
              "      <td>0.031800</td>\n",
              "      <td>NaN</td>\n",
              "    </tr>\n",
              "    <tr>\n",
              "      <th>100</th>\n",
              "      <td>0.031797</td>\n",
              "      <td>NaN</td>\n",
              "    </tr>\n",
              "    <tr>\n",
              "      <th>500</th>\n",
              "      <td>0.031824</td>\n",
              "      <td>NaN</td>\n",
              "    </tr>\n",
              "    <tr>\n",
              "      <th>1000</th>\n",
              "      <td>0.031834</td>\n",
              "      <td>NaN</td>\n",
              "    </tr>\n",
              "  </tbody>\n",
              "</table>\n",
              "</div>\n",
              "      <button class=\"colab-df-convert\" onclick=\"convertToInteractive('df-b59f3a37-8873-4d80-a0ca-bbf497864620')\"\n",
              "              title=\"Convert this dataframe to an interactive table.\"\n",
              "              style=\"display:none;\">\n",
              "        \n",
              "  <svg xmlns=\"http://www.w3.org/2000/svg\" height=\"24px\"viewBox=\"0 0 24 24\"\n",
              "       width=\"24px\">\n",
              "    <path d=\"M0 0h24v24H0V0z\" fill=\"none\"/>\n",
              "    <path d=\"M18.56 5.44l.94 2.06.94-2.06 2.06-.94-2.06-.94-.94-2.06-.94 2.06-2.06.94zm-11 1L8.5 8.5l.94-2.06 2.06-.94-2.06-.94L8.5 2.5l-.94 2.06-2.06.94zm10 10l.94 2.06.94-2.06 2.06-.94-2.06-.94-.94-2.06-.94 2.06-2.06.94z\"/><path d=\"M17.41 7.96l-1.37-1.37c-.4-.4-.92-.59-1.43-.59-.52 0-1.04.2-1.43.59L10.3 9.45l-7.72 7.72c-.78.78-.78 2.05 0 2.83L4 21.41c.39.39.9.59 1.41.59.51 0 1.02-.2 1.41-.59l7.78-7.78 2.81-2.81c.8-.78.8-2.07 0-2.86zM5.41 20L4 18.59l7.72-7.72 1.47 1.35L5.41 20z\"/>\n",
              "  </svg>\n",
              "      </button>\n",
              "      \n",
              "  <style>\n",
              "    .colab-df-container {\n",
              "      display:flex;\n",
              "      flex-wrap:wrap;\n",
              "      gap: 12px;\n",
              "    }\n",
              "\n",
              "    .colab-df-convert {\n",
              "      background-color: #E8F0FE;\n",
              "      border: none;\n",
              "      border-radius: 50%;\n",
              "      cursor: pointer;\n",
              "      display: none;\n",
              "      fill: #1967D2;\n",
              "      height: 32px;\n",
              "      padding: 0 0 0 0;\n",
              "      width: 32px;\n",
              "    }\n",
              "\n",
              "    .colab-df-convert:hover {\n",
              "      background-color: #E2EBFA;\n",
              "      box-shadow: 0px 1px 2px rgba(60, 64, 67, 0.3), 0px 1px 3px 1px rgba(60, 64, 67, 0.15);\n",
              "      fill: #174EA6;\n",
              "    }\n",
              "\n",
              "    [theme=dark] .colab-df-convert {\n",
              "      background-color: #3B4455;\n",
              "      fill: #D2E3FC;\n",
              "    }\n",
              "\n",
              "    [theme=dark] .colab-df-convert:hover {\n",
              "      background-color: #434B5C;\n",
              "      box-shadow: 0px 1px 3px 1px rgba(0, 0, 0, 0.15);\n",
              "      filter: drop-shadow(0px 1px 2px rgba(0, 0, 0, 0.3));\n",
              "      fill: #FFFFFF;\n",
              "    }\n",
              "  </style>\n",
              "\n",
              "      <script>\n",
              "        const buttonEl =\n",
              "          document.querySelector('#df-b59f3a37-8873-4d80-a0ca-bbf497864620 button.colab-df-convert');\n",
              "        buttonEl.style.display =\n",
              "          google.colab.kernel.accessAllowed ? 'block' : 'none';\n",
              "\n",
              "        async function convertToInteractive(key) {\n",
              "          const element = document.querySelector('#df-b59f3a37-8873-4d80-a0ca-bbf497864620');\n",
              "          const dataTable =\n",
              "            await google.colab.kernel.invokeFunction('convertToInteractive',\n",
              "                                                     [key], {});\n",
              "          if (!dataTable) return;\n",
              "\n",
              "          const docLinkHtml = 'Like what you see? Visit the ' +\n",
              "            '<a target=\"_blank\" href=https://colab.research.google.com/notebooks/data_table.ipynb>data table notebook</a>'\n",
              "            + ' to learn more about interactive tables.';\n",
              "          element.innerHTML = '';\n",
              "          dataTable['output_type'] = 'display_data';\n",
              "          await google.colab.output.renderOutput(dataTable, element);\n",
              "          const docLink = document.createElement('div');\n",
              "          docLink.innerHTML = docLinkHtml;\n",
              "          element.appendChild(docLink);\n",
              "        }\n",
              "      </script>\n",
              "    </div>\n",
              "  </div>\n",
              "  "
            ]
          },
          "metadata": {},
          "execution_count": 57
        }
      ]
    }
  ]
}